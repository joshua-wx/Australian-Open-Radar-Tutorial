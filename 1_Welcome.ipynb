{
 "cells": [
  {
   "cell_type": "markdown",
   "metadata": {
    "slideshow": {
     "slide_type": "slide"
    }
   },
   "source": [
    "# <span class=\"hgviolet\">Welcome to the Open Source Radar Software Tutorial</span>"
   ]
  },
  {
   "cell_type": "markdown",
   "metadata": {
    "slideshow": {
     "slide_type": "fragment"
    }
   },
   "source": [
    "- Joshua Soderholm, University of Queensland\n",
    "- Scott Collis, Argonne National Laboratory\n",
    "\n",
    "<div>\n",
    "    <img class=\"logo\" src=\"./images/python-logo.png\" height=\"100\" width=\"250\" align=\"left\"/>\n",
    "    <img class=\"logo\" src=\"./images/arm_logo.png\" height=\"100\" width=\"250\" align=\"right\"/>\n",
    "</div>\n",
    "<img class=\"logo\" src=\"./images/UQ.png\" height=\"150\" width=\"250\" align='center'/>\n"
   ]
  },
  {
   "cell_type": "markdown",
   "metadata": {
    "slideshow": {
     "slide_type": "slide"
    }
   },
   "source": [
    "# What Is Open Source?\n"
   ]
  },
  {
   "cell_type": "markdown",
   "metadata": {
    "slideshow": {
     "slide_type": "fragment"
    }
   },
   "source": [
    "### \"Free software is a matter of liberty, not price. To understand the concept, you should think of free as in free speech, not as in free beer.\"\n",
    "  ##### —Richard Stallman\n",
    "<img src='./images/freebeer.png'> \n",
    "###### <h5><a href=\"https://commons.wikimedia.org/wiki/File:Isummit_2008,_Japan,_free_beer_crop.png#/media/File:Isummit_2008,_Japan,_free_beer_crop.png\">Isummit 2008, Japan, free beer crop</a>\" by shaddim - <a class=\"external free\" href=\"https://commons.wikimedia.org/wiki/File:Isummit_2008,_Japan,_free_beer.jpg\">https://commons.wikimedia.org/wiki/File:Isummit_2008,_Japan,_free_beer.jpg</a>. Licensed under <a title=\"Creative Commons Attribution-Share Alike 2.5\" href=\"http://creativecommons.org/licenses/by-sa/2.5\">CC BY-SA 2.5</a> via <a href=\"https://commons.wikimedia.org/wiki/\">Commons</a></h5>"
   ]
  },
  {
   "cell_type": "markdown",
   "metadata": {
    "slideshow": {
     "slide_type": "fragment"
    }
   },
   "source": [
    "# Tutorial Objectives "
   ]
  },
  {
   "cell_type": "markdown",
   "metadata": {
    "slideshow": {
     "slide_type": "fragment"
    }
   },
   "source": [
    "- To give a familiarity with Python and the Scientific Python ecosystem and the use of notebooks"
   ]
  },
  {
   "cell_type": "markdown",
   "metadata": {
    "slideshow": {
     "slide_type": "fragment"
    }
   },
   "source": [
    "- To introduce the Python ARM Radar Toolkit and reveal the data model used"
   ]
  },
  {
   "cell_type": "markdown",
   "metadata": {
    "slideshow": {
     "slide_type": "fragment"
    }
   },
   "source": [
    "- To show how to plot a variety of different radar data with Py-ART"
   ]
  },
  {
   "cell_type": "markdown",
   "metadata": {
    "slideshow": {
     "slide_type": "fragment"
    }
   },
   "source": [
    "- Introduce you to tools in Py-ART including for dealiasing and gridding"
   ]
  },
  {
   "cell_type": "markdown",
   "metadata": {
    "slideshow": {
     "slide_type": "fragment"
    }
   },
   "source": [
    "- Introduce you to an array of tools built on and independant of Py-ART for working with radar data"
   ]
  },
  {
   "cell_type": "markdown",
   "metadata": {
    "slideshow": {
     "slide_type": "fragment"
    }
   },
   "source": [
    "# Timetable"
   ]
  },
  {
   "cell_type": "markdown",
   "metadata": {
    "slideshow": {
     "slide_type": "slide"
    }
   },
   "source": [
    "13:40\tARRIVAL AND INTRODUCTIONS\n",
    "<br>14:00\tBASIC PY-ART AND THE PY-ART DATA MODEL\t \n",
    "14:30\tPLOTTING USING PY-ART\n",
    "<br>15:00\tPY-ART PROCESSING AND USING APIS\n",
    "15:25 OPEN RADAR SOFTWARE UNIVERSE AND CONCLUSION\n",
    "<br>15:40 AFTERNOON BREAK"
   ]
  },
  {
   "cell_type": "markdown",
   "metadata": {
    "slideshow": {
     "slide_type": "slide"
    }
   },
   "source": [
    "16:00 OPEN RADAR SCIENCE PRESENTATION (SC)\n",
    "<br> 16:40 PY-ART DISCUSSION\n",
    "<br> 17:10 FINISH"
   ]
  },
  {
   "cell_type": "markdown",
   "metadata": {
    "collapsed": true,
    "slideshow": {
     "slide_type": "slide"
    }
   },
   "source": [
    "### This is a living course"
   ]
  },
  {
   "cell_type": "markdown",
   "metadata": {
    "collapsed": true,
    "slideshow": {
     "slide_type": "fragment"
    }
   },
   "source": [
    "- Data is at: <a href=\"http://figshare.com/articles/Data_for_AMS_Short_Course_on_Open_Source_Radar_Software/1537461\"> This figshare repository</a>\n"
   ]
  },
  {
   "cell_type": "markdown",
   "metadata": {
    "slideshow": {
     "slide_type": "fragment"
    }
   },
   "source": [
    "- Materials live <a href=\"https://github.com/uq-crg/Australian-Open-Radar-Tutorial\">This GitHub Repository</a>"
   ]
  }
 ],
 "metadata": {
  "celltoolbar": "Slideshow",
  "kernelspec": {
   "display_name": "Python [Root]",
   "language": "python",
   "name": "Python [Root]"
  },
  "language_info": {
   "codemirror_mode": {
    "name": "ipython",
    "version": 2
   },
   "file_extension": ".py",
   "mimetype": "text/x-python",
   "name": "python",
   "nbconvert_exporter": "python",
   "pygments_lexer": "ipython2",
   "version": "2.7.12"
  }
 },
 "nbformat": 4,
 "nbformat_minor": 0
}
