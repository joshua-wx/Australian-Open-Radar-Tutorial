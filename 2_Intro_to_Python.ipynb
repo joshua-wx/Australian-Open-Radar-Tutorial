{
 "cells": [
  {
   "cell_type": "markdown",
   "metadata": {},
   "source": [
    "# Introduction to the Python Universe"
   ]
  },
  {
   "cell_type": "markdown",
   "metadata": {},
   "source": [
    "## Jupyter\n",
    "\n",
    "What you are looking at is an [Jupyter Notebook](http://jupyter.org/), a web-based interactive computation enviroment well suited for creating and sharing examples of scientific Python computations.\n",
    "\n",
    "<img class=\"logo\" src=\"images/jupyter-logo.svg\" height=100 />\n",
    "\n",
    "One of the key features of Jupyter notebooks is that Python code can be written and executed in cells. \n",
    "\n",
    "Click on the next cell and press shift+enter to execute the Python code."
   ]
  },
  {
   "cell_type": "markdown",
   "metadata": {},
   "source": [
    "---\n",
    "Cells can also be used to create textual materials using the markup language [Markdown](http://en.wikipedia.org/wiki/Markdown).  \n",
    "\n",
    "Double click on this cell (or any others) to see the raw markdown which produces the nicely formatted text."
   ]
  },
  {
   "cell_type": "markdown",
   "metadata": {},
   "source": [
    "---\n",
    "One of the reasons these Notebooks are so well suited for scientific Python work is that Juypter is well integrated into the [Scientific Python ecosystem](http://www.scipy.org/).  For example, plots can be included in notebooks for visualizing data."
   ]
  },
  {
   "cell_type": "markdown",
   "metadata": {},
   "source": [
    "---\n",
    "We will be using Jupyter notebooks for all the course materials so that you can interactively run Py-ART examples and play with data\n",
    "\n",
    "Jupyter has a number of additional features and uses which are outside the scope of this introduction.  To learn more, see the Jupyter [documentation](http://jupyter.readthedocs.org/en/latest/), look at some [examples](http://nbviewer.ipython.org/github/ipython/ipython/blob/2.x/examples/Notebook/Index.ipynb), or checkout the [gallery](https://github.com/ipython/ipython/wiki/A-gallery-of-interesting-IPython-Notebooks) of interesting notebooks."
   ]
  },
  {
   "cell_type": "markdown",
   "metadata": {
    "slideshow": {
     "slide_type": "slide"
    }
   },
   "source": [
    "<img class=\"logo\" src=\"images/python-logo.png\" height=100 align='right'/>\n",
    "\n",
    "### Python\n",
    "\n",
    "* General-purpose.\n",
    "* Interpreted.\n",
    "* Focuses on readability.\n",
    "* Excellent for interfacing with C, C++ and Fortran code. \n",
    "* Comprehesive standard library.\n",
    "* Extended with a large number of third-party packages.\n",
    "* Widely used in scientific programming."
   ]
  },
  {
   "cell_type": "markdown",
   "metadata": {
    "slideshow": {
     "slide_type": "notes"
    }
   },
   "source": [
    "This presentation will give a brief into to some key features of Python and the Scientific Python ecosystem to help those not familar with the language with the remainder of the class.  This is in no way a comprehensive introduction to either topic.  Excellent tutorials on Python and Scientific Python can be found online.\n",
    "\n",
    "We will be using IPython for this class which is a package which allows Python code to be run inside a browser.  This is in no way the only way to run python, the Python/IPython shell, scripts and various IDEs can also be used but will not be coverted.\n",
    "\n",
    "The notebook for this materials is available if you wish to follow along on your own computer, but we will be moving fast..."
   ]
  },
  {
   "cell_type": "markdown",
   "metadata": {
    "slideshow": {
     "slide_type": "slide"
    }
   },
   "source": [
    "## The Scientific Python ecosystem \n",
    "\n",
    "* ### NumPy\n",
    "\n",
    "![NumPy logo](images/numpylogo.svg)"
   ]
  },
  {
   "cell_type": "markdown",
   "metadata": {
    "slideshow": {
     "slide_type": "slide"
    }
   },
   "source": [
    "## The Scientific Python ecosystem \n",
    "\n",
    "* ### SciPy\n",
    "\n",
    "![SciPy logo](images/scipy.png)"
   ]
  },
  {
   "cell_type": "markdown",
   "metadata": {
    "slideshow": {
     "slide_type": "slide"
    }
   },
   "source": [
    "## The Scientific Python ecosystem \n",
    "\n",
    "* ### matplotlib\n",
    "\n",
    "![matplotlib logo](images/matplotlib_logo.png)"
   ]
  },
  {
   "cell_type": "code",
   "execution_count": null,
   "metadata": {
    "collapsed": false,
    "slideshow": {
     "slide_type": "slide"
    }
   },
   "outputs": [],
   "source": [
    "%pylab inline"
   ]
  },
  {
   "cell_type": "code",
   "execution_count": null,
   "metadata": {
    "collapsed": false,
    "slideshow": {
     "slide_type": "-"
    }
   },
   "outputs": [],
   "source": [
    "plot([1,2,3])"
   ]
  },
  {
   "cell_type": "code",
   "execution_count": null,
   "metadata": {
    "collapsed": false,
    "slideshow": {
     "slide_type": "slide"
    }
   },
   "outputs": [],
   "source": [
    "a = np.random.rand(30, 30)\n",
    "imshow(a)\n",
    "colorbar()"
   ]
  }
 ],
 "metadata": {
  "celltoolbar": "Slideshow",
  "kernelspec": {
   "display_name": "Python [Root]",
   "language": "python",
   "name": "Python [Root]"
  },
  "language_info": {
   "codemirror_mode": {
    "name": "ipython",
    "version": 2
   },
   "file_extension": ".py",
   "mimetype": "text/x-python",
   "name": "python",
   "nbconvert_exporter": "python",
   "pygments_lexer": "ipython2",
   "version": "2.7.12"
  }
 },
 "nbformat": 4,
 "nbformat_minor": 0
}
